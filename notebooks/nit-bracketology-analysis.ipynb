{
 "metadata": {
  "name": "",
  "signature": "sha256:07bd9386b41b4e77d9cba4d0072de8ddeb5fc71d02e90d8e765a6cf50abd5b96"
 },
 "nbformat": 3,
 "nbformat_minor": 0,
 "worksheets": [
  {
   "cells": [
    {
     "cell_type": "markdown",
     "metadata": {},
     "source": [
      "## Analyzing NIT Bracketology\n",
      "\n",
      "Analyzing RPI trends in NIT bracketology for the past five tournaments."
     ]
    },
    {
     "cell_type": "code",
     "collapsed": false,
     "input": [
      "import pandas as pd\n",
      "import matplotlib.pyplot as plt\n",
      "%matplotlib inline"
     ],
     "language": "python",
     "metadata": {},
     "outputs": [],
     "prompt_number": 1
    },
    {
     "cell_type": "markdown",
     "metadata": {},
     "source": [
      "### Load the data:\n",
      "\n",
      "I collected this data from: \n",
      "- Wikipedia (Seed, School, Conference, Record, Wins, Losses, Berth type, Year)\n",
      "- Basketball State (RPI)\n",
      "- My own classification (Mid-Major)\n",
      "\n",
      "*Note: that Atlantic 10 is not included in the \"Mid-Major\" field.*"
     ]
    },
    {
     "cell_type": "code",
     "collapsed": false,
     "input": [
      "nit_df = pd.read_csv(\"../data/nit-participants-2010-2014.csv\")"
     ],
     "language": "python",
     "metadata": {},
     "outputs": [],
     "prompt_number": 3
    },
    {
     "cell_type": "code",
     "collapsed": false,
     "input": [
      "nit_df.head(1)"
     ],
     "language": "python",
     "metadata": {},
     "outputs": [
      {
       "html": [
        "<div style=\"max-height:1000px;max-width:1500px;overflow:auto;\">\n",
        "<table border=\"1\" class=\"dataframe\">\n",
        "  <thead>\n",
        "    <tr style=\"text-align: right;\">\n",
        "      <th></th>\n",
        "      <th>Seed</th>\n",
        "      <th>School</th>\n",
        "      <th>Conference</th>\n",
        "      <th>Record</th>\n",
        "      <th>Wins</th>\n",
        "      <th>Losses</th>\n",
        "      <th>Berth type</th>\n",
        "      <th>Year</th>\n",
        "      <th>Wins-Losses</th>\n",
        "      <th>RPI</th>\n",
        "      <th>Mid-Major</th>\n",
        "    </tr>\n",
        "  </thead>\n",
        "  <tbody>\n",
        "    <tr>\n",
        "      <th>0</th>\n",
        "      <td> 1</td>\n",
        "      <td> Florida State</td>\n",
        "      <td> ACC</td>\n",
        "      <td> 19\u201313</td>\n",
        "      <td> 19</td>\n",
        "      <td> 13</td>\n",
        "      <td> At-Large</td>\n",
        "      <td> 2014</td>\n",
        "      <td> 6</td>\n",
        "      <td> 51</td>\n",
        "      <td> N</td>\n",
        "    </tr>\n",
        "  </tbody>\n",
        "</table>\n",
        "</div>"
       ],
       "metadata": {},
       "output_type": "pyout",
       "prompt_number": 4,
       "text": [
        "   Seed         School Conference Record  Wins  Losses Berth type  Year  \\\n",
        "0     1  Florida State        ACC  19\u201313    19      13   At-Large  2014   \n",
        "\n",
        "   Wins-Losses  RPI Mid-Major  \n",
        "0            6   51         N  "
       ]
      }
     ],
     "prompt_number": 4
    },
    {
     "cell_type": "markdown",
     "metadata": {},
     "source": [
      "### Initial Analysis:\n",
      "\n",
      "- What conferences have had the most NIT participants?\n",
      "- What is the average RPI of an at-large berth?\n",
      "- What was the distribution of RPIs for at-large berths?"
     ]
    },
    {
     "cell_type": "code",
     "collapsed": false,
     "input": [
      "nit_df[\"Conference\"].value_counts()[:10]"
     ],
     "language": "python",
     "metadata": {},
     "outputs": [
      {
       "metadata": {},
       "output_type": "pyout",
       "prompt_number": 5,
       "text": [
        "SEC            15\n",
        "ACC            12\n",
        "Big East       10\n",
        "Big Ten         9\n",
        "Pac-12          9\n",
        "Atlantic 10     9\n",
        "C-USA           7\n",
        "MVC             6\n",
        "Horizon         6\n",
        "WAC             5\n",
        "dtype: int64"
       ]
      }
     ],
     "prompt_number": 5
    },
    {
     "cell_type": "code",
     "collapsed": false,
     "input": [
      "nit_df[\"School\"].value_counts()[:10]"
     ],
     "language": "python",
     "metadata": {},
     "outputs": [
      {
       "metadata": {},
       "output_type": "pyout",
       "prompt_number": 6,
       "text": [
        "Mississippi        3\n",
        "St. John's         3\n",
        "Stony Brook        3\n",
        "Dayton             3\n",
        "Northwestern       3\n",
        "Illinois           2\n",
        "Cleveland State    2\n",
        "Kent State         2\n",
        "Arizona State      2\n",
        "Iowa               2\n",
        "dtype: int64"
       ]
      }
     ],
     "prompt_number": 6
    },
    {
     "cell_type": "code",
     "collapsed": false,
     "input": [
      "at_large_df = nit_df[nit_df[\"Berth type\"] == \"At-Large\"]"
     ],
     "language": "python",
     "metadata": {},
     "outputs": [],
     "prompt_number": 7
    },
    {
     "cell_type": "code",
     "collapsed": false,
     "input": [
      "at_large_df[\"RPI\"].describe()"
     ],
     "language": "python",
     "metadata": {},
     "outputs": [
      {
       "metadata": {},
       "output_type": "pyout",
       "prompt_number": 8,
       "text": [
        "count    104.000000\n",
        "mean      67.913462\n",
        "std       15.753015\n",
        "min       31.000000\n",
        "25%       58.000000\n",
        "50%       68.000000\n",
        "75%       76.250000\n",
        "max      121.000000\n",
        "dtype: float64"
       ]
      }
     ],
     "prompt_number": 8
    },
    {
     "cell_type": "code",
     "collapsed": false,
     "input": [
      "at_large_df[\"RPI\"].hist()\n",
      "pass"
     ],
     "language": "python",
     "metadata": {},
     "outputs": [
      {
       "metadata": {},
       "output_type": "display_data",
       "png": "[encoded data removed]",
       "text": [
        "<matplotlib.figure.Figure at 0x10bf0b0d0>"
       ]
      }
     ],
     "prompt_number": 9
    },
    {
     "cell_type": "markdown",
     "metadata": {},
     "source": [
      "The mean RPI for an at-large berth to the NIT is ~68 and 95% of all bids should fall between RPIs of 36 and 100. Let's check out the big outliers."
     ]
    },
    {
     "cell_type": "code",
     "collapsed": false,
     "input": [
      "at_large_df[at_large_df[\"RPI\"] < 36]"
     ],
     "language": "python",
     "metadata": {},
     "outputs": [
      {
       "html": [
        "<div style=\"max-height:1000px;max-width:1500px;overflow:auto;\">\n",
        "<table border=\"1\" class=\"dataframe\">\n",
        "  <thead>\n",
        "    <tr style=\"text-align: right;\">\n",
        "      <th></th>\n",
        "      <th>Seed</th>\n",
        "      <th>School</th>\n",
        "      <th>Conference</th>\n",
        "      <th>Record</th>\n",
        "      <th>Wins</th>\n",
        "      <th>Losses</th>\n",
        "      <th>Berth type</th>\n",
        "      <th>Year</th>\n",
        "      <th>Wins-Losses</th>\n",
        "      <th>RPI</th>\n",
        "      <th>Mid-Major</th>\n",
        "    </tr>\n",
        "  </thead>\n",
        "  <tbody>\n",
        "    <tr>\n",
        "      <th>35 </th>\n",
        "      <td> 1</td>\n",
        "      <td> Southern Mississippi</td>\n",
        "      <td> C-USA</td>\n",
        "      <td> 25\u20139</td>\n",
        "      <td> 25</td>\n",
        "      <td> 9</td>\n",
        "      <td> At-Large</td>\n",
        "      <td> 2013</td>\n",
        "      <td> 16</td>\n",
        "      <td> 31</td>\n",
        "      <td> Y</td>\n",
        "    </tr>\n",
        "    <tr>\n",
        "      <th>119</th>\n",
        "      <td> 6</td>\n",
        "      <td>              Harvard</td>\n",
        "      <td>   Ivy</td>\n",
        "      <td> 23\u20136</td>\n",
        "      <td> 23</td>\n",
        "      <td> 6</td>\n",
        "      <td> At-Large</td>\n",
        "      <td> 2011</td>\n",
        "      <td> 17</td>\n",
        "      <td> 35</td>\n",
        "      <td> Y</td>\n",
        "    </tr>\n",
        "  </tbody>\n",
        "</table>\n",
        "</div>"
       ],
       "metadata": {},
       "output_type": "pyout",
       "prompt_number": 10,
       "text": [
        "     Seed                School Conference Record  Wins  Losses Berth type  \\\n",
        "35      1  Southern Mississippi      C-USA   25\u20139    25       9   At-Large   \n",
        "119     6               Harvard        Ivy   23\u20136    23       6   At-Large   \n",
        "\n",
        "     Year  Wins-Losses  RPI Mid-Major  \n",
        "35   2013           16   31         Y  \n",
        "119  2011           17   35         Y  "
       ]
      }
     ],
     "prompt_number": 10
    },
    {
     "cell_type": "code",
     "collapsed": false,
     "input": [
      "at_large_df[at_large_df[\"RPI\"] > 100]"
     ],
     "language": "python",
     "metadata": {},
     "outputs": [
      {
       "html": [
        "<div style=\"max-height:1000px;max-width:1500px;overflow:auto;\">\n",
        "<table border=\"1\" class=\"dataframe\">\n",
        "  <thead>\n",
        "    <tr style=\"text-align: right;\">\n",
        "      <th></th>\n",
        "      <th>Seed</th>\n",
        "      <th>School</th>\n",
        "      <th>Conference</th>\n",
        "      <th>Record</th>\n",
        "      <th>Wins</th>\n",
        "      <th>Losses</th>\n",
        "      <th>Berth type</th>\n",
        "      <th>Year</th>\n",
        "      <th>Wins-Losses</th>\n",
        "      <th>RPI</th>\n",
        "      <th>Mid-Major</th>\n",
        "    </tr>\n",
        "  </thead>\n",
        "  <tbody>\n",
        "    <tr>\n",
        "      <th>88 </th>\n",
        "      <td> 7</td>\n",
        "      <td>           Iowa</td>\n",
        "      <td>         Big Ten</td>\n",
        "      <td> 17\u201316</td>\n",
        "      <td> 17</td>\n",
        "      <td> 16</td>\n",
        "      <td> At-Large</td>\n",
        "      <td> 2012</td>\n",
        "      <td> 1</td>\n",
        "      <td> 121</td>\n",
        "      <td> N</td>\n",
        "    </tr>\n",
        "    <tr>\n",
        "      <th>90 </th>\n",
        "      <td> 7</td>\n",
        "      <td> Illinois State</td>\n",
        "      <td> Missouri Valley</td>\n",
        "      <td> 20\u201313</td>\n",
        "      <td> 20</td>\n",
        "      <td> 13</td>\n",
        "      <td> At-Large</td>\n",
        "      <td> 2012</td>\n",
        "      <td> 7</td>\n",
        "      <td> 109</td>\n",
        "      <td> Y</td>\n",
        "    </tr>\n",
        "    <tr>\n",
        "      <th>152</th>\n",
        "      <td> 7</td>\n",
        "      <td>   Northwestern</td>\n",
        "      <td>         Big Ten</td>\n",
        "      <td> 20-13</td>\n",
        "      <td> 20</td>\n",
        "      <td> 13</td>\n",
        "      <td> At-Large</td>\n",
        "      <td> 2010</td>\n",
        "      <td> 7</td>\n",
        "      <td> 112</td>\n",
        "      <td> N</td>\n",
        "    </tr>\n",
        "  </tbody>\n",
        "</table>\n",
        "</div>"
       ],
       "metadata": {},
       "output_type": "pyout",
       "prompt_number": 11,
       "text": [
        "     Seed          School       Conference Record  Wins  Losses Berth type  \\\n",
        "88      7            Iowa          Big Ten  17\u201316    17      16   At-Large   \n",
        "90      7  Illinois State  Missouri Valley  20\u201313    20      13   At-Large   \n",
        "152     7    Northwestern          Big Ten  20-13    20      13   At-Large   \n",
        "\n",
        "     Year  Wins-Losses  RPI Mid-Major  \n",
        "88   2012            1  121         N  \n",
        "90   2012            7  109         Y  \n",
        "152  2010            7  112         N  "
       ]
      }
     ],
     "prompt_number": 11
    },
    {
     "cell_type": "markdown",
     "metadata": {},
     "source": [
      "### More On The Ivy League:\n",
      "\n",
      "Wow, a six seed for a team with a 35 RPI? Does the **Ivy League** always need that impressive a performance to get an at-large? (Remember the league can't get an automatic bid due to how its NCAA berth is determined.)"
     ]
    },
    {
     "cell_type": "code",
     "collapsed": false,
     "input": [
      "at_large_df[at_large_df[\"Conference\"].str.contains(\"Ivy\")]"
     ],
     "language": "python",
     "metadata": {},
     "outputs": [
      {
       "html": [
        "<div style=\"max-height:1000px;max-width:1500px;overflow:auto;\">\n",
        "<table border=\"1\" class=\"dataframe\">\n",
        "  <thead>\n",
        "    <tr style=\"text-align: right;\">\n",
        "      <th></th>\n",
        "      <th>Seed</th>\n",
        "      <th>School</th>\n",
        "      <th>Conference</th>\n",
        "      <th>Record</th>\n",
        "      <th>Wins</th>\n",
        "      <th>Losses</th>\n",
        "      <th>Berth type</th>\n",
        "      <th>Year</th>\n",
        "      <th>Wins-Losses</th>\n",
        "      <th>RPI</th>\n",
        "      <th>Mid-Major</th>\n",
        "    </tr>\n",
        "  </thead>\n",
        "  <tbody>\n",
        "    <tr>\n",
        "      <th>119</th>\n",
        "      <td> 6</td>\n",
        "      <td> Harvard</td>\n",
        "      <td> Ivy</td>\n",
        "      <td> 23\u20136</td>\n",
        "      <td> 23</td>\n",
        "      <td> 6</td>\n",
        "      <td> At-Large</td>\n",
        "      <td> 2011</td>\n",
        "      <td> 17</td>\n",
        "      <td> 35</td>\n",
        "      <td> Y</td>\n",
        "    </tr>\n",
        "  </tbody>\n",
        "</table>\n",
        "</div>"
       ],
       "metadata": {},
       "output_type": "pyout",
       "prompt_number": 12,
       "text": [
        "     Seed   School Conference Record  Wins  Losses Berth type  Year  \\\n",
        "119     6  Harvard        Ivy   23\u20136    23       6   At-Large  2011   \n",
        "\n",
        "     Wins-Losses  RPI Mid-Major  \n",
        "119           17   35         Y  "
       ]
      }
     ],
     "prompt_number": 12
    },
    {
     "cell_type": "markdown",
     "metadata": {},
     "source": [
      "Woah! The Ivy League has only had one at-large bid in the past 5 seasons? Yes, but... Best RPIs of non-winner in the other 4 seasons: \n",
      "\n",
      "- 124 - Princeton (13-14)\n",
      "- 121 - Princeton (12-13)\n",
      "- 86 - Princeton (11-12)\n",
      "- 100 - Harvard (09-10)\n",
      "\n",
      "Alright, now I feel a little better about Yale or Harvard's chances this season."
     ]
    },
    {
     "cell_type": "markdown",
     "metadata": {},
     "source": [
      "### Mid-Majors Need To Be (Slightly) Better:"
     ]
    },
    {
     "cell_type": "code",
     "collapsed": false,
     "input": [
      "at_large_df[at_large_df[\"Mid-Major\"] == \"Y\"][\"RPI\"].describe()"
     ],
     "language": "python",
     "metadata": {},
     "outputs": [
      {
       "metadata": {},
       "output_type": "pyout",
       "prompt_number": 13,
       "text": [
        "count     28.000000\n",
        "mean      62.357143\n",
        "std       17.299570\n",
        "min       31.000000\n",
        "25%       50.250000\n",
        "50%       65.500000\n",
        "75%       72.000000\n",
        "max      109.000000\n",
        "dtype: float64"
       ]
      }
     ],
     "prompt_number": 13
    },
    {
     "cell_type": "code",
     "collapsed": false,
     "input": [
      "at_large_df[at_large_df[\"Mid-Major\"] == \"Y\"][\"RPI\"].hist()\n",
      "pass"
     ],
     "language": "python",
     "metadata": {},
     "outputs": [
      {
       "metadata": {},
       "output_type": "display_data",
       "png": "[encoded data removed]",
       "text": [
        "<matplotlib.figure.Figure at 0x10bd47c50>"
       ]
      }
     ],
     "prompt_number": 14
    },
    {
     "cell_type": "code",
     "collapsed": false,
     "input": [
      "at_large_df[at_large_df[\"Mid-Major\"] == \"N\"][\"RPI\"].describe()"
     ],
     "language": "python",
     "metadata": {},
     "outputs": [
      {
       "metadata": {},
       "output_type": "pyout",
       "prompt_number": 15,
       "text": [
        "count     76.000000\n",
        "mean      69.960526\n",
        "std       14.740819\n",
        "min       36.000000\n",
        "25%       59.000000\n",
        "50%       69.000000\n",
        "75%       79.000000\n",
        "max      121.000000\n",
        "dtype: float64"
       ]
      }
     ],
     "prompt_number": 15
    },
    {
     "cell_type": "code",
     "collapsed": false,
     "input": [
      "at_large_df[at_large_df[\"Mid-Major\"] == \"N\"][\"RPI\"].hist()\n",
      "pass"
     ],
     "language": "python",
     "metadata": {},
     "outputs": [
      {
       "metadata": {},
       "output_type": "display_data",
       "png": "[encoded data removed]",
       "text": [
        "<matplotlib.figure.Figure at 0x10a43ae90>"
       ]
      }
     ],
     "prompt_number": 16
    },
    {
     "cell_type": "markdown",
     "metadata": {},
     "source": [
      "### Bracket Distribution:\n",
      "\n",
      "- How many automatic bids are there typically in the NIT?\n",
      "- How many \"mid-majors\" play in the NIT each season?"
     ]
    },
    {
     "cell_type": "code",
     "collapsed": false,
     "input": [
      "berth_composition = nit_df.groupby([\"Berth type\", \"Year\"]).count()[\"Seed\"].unstack().T\n",
      "berth_composition"
     ],
     "language": "python",
     "metadata": {},
     "outputs": [
      {
       "html": [
        "<div style=\"max-height:1000px;max-width:1500px;overflow:auto;\">\n",
        "<table border=\"1\" class=\"dataframe\">\n",
        "  <thead>\n",
        "    <tr style=\"text-align: right;\">\n",
        "      <th>Berth type</th>\n",
        "      <th>At-Large</th>\n",
        "      <th>Automatic</th>\n",
        "    </tr>\n",
        "    <tr>\n",
        "      <th>Year</th>\n",
        "      <th></th>\n",
        "      <th></th>\n",
        "    </tr>\n",
        "  </thead>\n",
        "  <tbody>\n",
        "    <tr>\n",
        "      <th>2010</th>\n",
        "      <td> 24</td>\n",
        "      <td>  8</td>\n",
        "    </tr>\n",
        "    <tr>\n",
        "      <th>2011</th>\n",
        "      <td> 18</td>\n",
        "      <td> 14</td>\n",
        "    </tr>\n",
        "    <tr>\n",
        "      <th>2012</th>\n",
        "      <td> 21</td>\n",
        "      <td> 11</td>\n",
        "    </tr>\n",
        "    <tr>\n",
        "      <th>2013</th>\n",
        "      <td> 22</td>\n",
        "      <td> 10</td>\n",
        "    </tr>\n",
        "    <tr>\n",
        "      <th>2014</th>\n",
        "      <td> 19</td>\n",
        "      <td> 13</td>\n",
        "    </tr>\n",
        "  </tbody>\n",
        "</table>\n",
        "</div>"
       ],
       "metadata": {},
       "output_type": "pyout",
       "prompt_number": 17,
       "text": [
        "Berth type  At-Large  Automatic\n",
        "Year                           \n",
        "2010              24          8\n",
        "2011              18         14\n",
        "2012              21         11\n",
        "2013              22         10\n",
        "2014              19         13"
       ]
      }
     ],
     "prompt_number": 17
    },
    {
     "cell_type": "code",
     "collapsed": false,
     "input": [
      "round(berth_composition[\"Automatic\"].mean(), 1)"
     ],
     "language": "python",
     "metadata": {},
     "outputs": [
      {
       "metadata": {},
       "output_type": "pyout",
       "prompt_number": 18,
       "text": [
        "11.2"
       ]
      }
     ],
     "prompt_number": 18
    },
    {
     "cell_type": "code",
     "collapsed": false,
     "input": [
      "level_composition = nit_df.groupby([\"Mid-Major\", \"Year\"]).count()[\"Seed\"].unstack().T\n",
      "level_composition"
     ],
     "language": "python",
     "metadata": {},
     "outputs": [
      {
       "html": [
        "<div style=\"max-height:1000px;max-width:1500px;overflow:auto;\">\n",
        "<table border=\"1\" class=\"dataframe\">\n",
        "  <thead>\n",
        "    <tr style=\"text-align: right;\">\n",
        "      <th>Mid-Major</th>\n",
        "      <th>N</th>\n",
        "      <th>Y</th>\n",
        "    </tr>\n",
        "    <tr>\n",
        "      <th>Year</th>\n",
        "      <th></th>\n",
        "      <th></th>\n",
        "    </tr>\n",
        "  </thead>\n",
        "  <tbody>\n",
        "    <tr>\n",
        "      <th>2010</th>\n",
        "      <td> 16</td>\n",
        "      <td> 16</td>\n",
        "    </tr>\n",
        "    <tr>\n",
        "      <th>2011</th>\n",
        "      <td> 14</td>\n",
        "      <td> 18</td>\n",
        "    </tr>\n",
        "    <tr>\n",
        "      <th>2012</th>\n",
        "      <td> 17</td>\n",
        "      <td> 15</td>\n",
        "    </tr>\n",
        "    <tr>\n",
        "      <th>2013</th>\n",
        "      <td> 16</td>\n",
        "      <td> 16</td>\n",
        "    </tr>\n",
        "    <tr>\n",
        "      <th>2014</th>\n",
        "      <td> 14</td>\n",
        "      <td> 18</td>\n",
        "    </tr>\n",
        "  </tbody>\n",
        "</table>\n",
        "</div>"
       ],
       "metadata": {},
       "output_type": "pyout",
       "prompt_number": 19,
       "text": [
        "Mid-Major   N   Y\n",
        "Year             \n",
        "2010       16  16\n",
        "2011       14  18\n",
        "2012       17  15\n",
        "2013       16  16\n",
        "2014       14  18"
       ]
      }
     ],
     "prompt_number": 19
    },
    {
     "cell_type": "code",
     "collapsed": false,
     "input": [
      "round(level_composition[\"Y\"].mean(), 1)"
     ],
     "language": "python",
     "metadata": {},
     "outputs": [
      {
       "metadata": {},
       "output_type": "pyout",
       "prompt_number": 20,
       "text": [
        "16.6"
       ]
      }
     ],
     "prompt_number": 20
    },
    {
     "cell_type": "markdown",
     "metadata": {},
     "source": [
      "An average of 11 automatic berths have been given out each season. Around half the overall field is typically filled by mid-majors (but remember that includes the 11 bids)."
     ]
    },
    {
     "cell_type": "code",
     "collapsed": false,
     "input": [],
     "language": "python",
     "metadata": {},
     "outputs": []
    }
   ],
   "metadata": {}
  }
 ]
}